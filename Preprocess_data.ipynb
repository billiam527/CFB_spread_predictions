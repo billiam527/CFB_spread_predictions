{
 "cells": [
  {
   "cell_type": "code",
   "execution_count": 17,
   "metadata": {},
   "outputs": [],
   "source": [
    "#Import libraries\n",
    "import pandas as pd\n",
    "import numpy as np\n",
    "import glob\n",
    "import os"
   ]
  },
  {
   "cell_type": "code",
   "execution_count": 18,
   "metadata": {},
   "outputs": [],
   "source": [
    "#Combine the files into one\n",
    "#Make sure the foler only has the CSV files you want to combine\n",
    "\n",
    "#Define the path\n",
    "path = r'C:\\Users\\billf\\Desktop\\Data_Science\\FirstOfficialMLProject\\School_stats_scraped_files'\n",
    "\n",
    "#Get all the CSV files into an array\n",
    "all_files = glob.glob(os.path.join(path, \"*.csv\"))\n",
    "\n",
    "#Turn each csv file into a DF\n",
    "df_from_each_file = (pd.read_csv(f) for f in all_files)\n",
    "\n",
    "#Concat them together\n",
    "concatenated_ratings = pd.concat(df_from_each_file, ignore_index=True,sort=False)"
   ]
  },
  {
   "cell_type": "code",
   "execution_count": 19,
   "metadata": {},
   "outputs": [],
   "source": [
    "#Do the same for results\n",
    "path = r'C:\\Users\\billf\\Desktop\\Data_Science\\FirstOfficialMLProject\\Spread_and_results_scraped_files'\n",
    "all_files = glob.glob(os.path.join(path, \"*.csv\"))\n",
    "df_from_each_file = (pd.read_csv(f) for f in all_files)\n",
    "concatenated_results = pd.concat(df_from_each_file, ignore_index=True, sort=False)"
   ]
  },
  {
   "cell_type": "code",
   "execution_count": 20,
   "metadata": {},
   "outputs": [],
   "source": [
    "#Save results into CSV files\n",
    "concatenated_ratings.to_csv(\"School_stats_files/school_stats_2010_to_2017.csv\")\n",
    "concatenated_results.to_csv(\"Spread_and_results_files/spread_score_results_2010_to_2017.csv\")"
   ]
  },
  {
   "cell_type": "code",
   "execution_count": 21,
   "metadata": {},
   "outputs": [],
   "source": [
    "#Define the DF to work with\n",
    "ratings = pd.read_csv(\"School_stats_files/school_stats_2010_to_2017.csv\")\n",
    "#ratings"
   ]
  },
  {
   "cell_type": "code",
   "execution_count": 22,
   "metadata": {},
   "outputs": [],
   "source": [
    "#Drop the first two columns which are weird unnamed columns\n",
    "ratings.drop(ratings.columns[[0,1]], axis=1, inplace=True)"
   ]
  },
  {
   "cell_type": "code",
   "execution_count": 23,
   "metadata": {},
   "outputs": [],
   "source": [
    "#Replace spacing between school names to help with formatting\n",
    "ratings[\"School\"] = ratings[\"School\"].str.replace(' ', '')"
   ]
  },
  {
   "cell_type": "code",
   "execution_count": 24,
   "metadata": {},
   "outputs": [],
   "source": [
    "#Since our school names come from two different sources, need to standardize the names\n",
    "ratings['School'] = ratings.replace({'School' : {'AppalachianState':'AppalachianSt',\n",
    "                             'BowlingGreenState':'BowlingGreen',\n",
    "                             'BrighamYoung':'BYU',\n",
    "                             'Buffalo': 'BuffaloU',\n",
    "                             'FloridaInternational': 'FloridaIntl',\n",
    "                             'Houston':'HoustonU',\n",
    "                             'Louisiana':'ULLafayette',\n",
    "                             'Louisiana-Monroe':'ULMonroe',\n",
    "                             'Miami(FL)':'MiamiFlorida',\n",
    "                             'Miami(OH)':'MiamiOhio',\n",
    "                             'MiddleTennesseeState':'MiddleTennSt',\n",
    "                             'Nevada-LasVegas':'UNLV',\n",
    "                             'NorthCarolinaState':'NCState',\n",
    "                             'NorthernIllinois':'NoIllinois',\n",
    "                             'OleMiss':'Mississippi',\n",
    "                             'Pitt':'PittsburghU',\n",
    "                             'SouthernMississippi':'SouthernMiss',\n",
    "                             'TexasChristian':'TCU',\n",
    "                             'UCF':'CentralFlorida',\n",
    "                             'UTSA':'TexSanAntonio',\n",
    "                             'Arizona':'ArizonaU',\n",
    "                             'Cincinnati':'CincinnatiU',\n",
    "                             'Minnesota':'MinnesotaU',\n",
    "                             'MississippiState':'MississippiSt',\n",
    "                             'Tennessee':'TennesseeU',\n",
    "                             'Washington':'WashingtonU'\n",
    "                            }})"
   ]
  },
  {
   "cell_type": "code",
   "execution_count": 25,
   "metadata": {},
   "outputs": [],
   "source": [
    "#Pull in the results df\n",
    "results = pd.read_csv(\"Spread_and_results_files/spread_score_results_2010_to_2017.csv\")"
   ]
  },
  {
   "cell_type": "code",
   "execution_count": 26,
   "metadata": {},
   "outputs": [],
   "source": [
    "#Drop first two columns\n",
    "results.drop(results.columns[[0,1]], axis=1, inplace=True)"
   ]
  },
  {
   "cell_type": "code",
   "execution_count": 27,
   "metadata": {},
   "outputs": [],
   "source": [
    "#Drop unwanted columnds\n",
    "results = results.drop(results[[\"Rot\",\"1st\",\"2nd\",\"3rd\",\"4th\",\"2H\"]], axis=1)"
   ]
  },
  {
   "cell_type": "code",
   "execution_count": 28,
   "metadata": {},
   "outputs": [],
   "source": [
    "#Games are on alternating lines, but we want them to be on the same row\n",
    "#We will seperate the games into two different dfs, 1 and 2\n",
    "df1 = results[results.index % 2 != 0]\n",
    "df2 = results[results.index % 2 == 0]"
   ]
  },
  {
   "cell_type": "code",
   "execution_count": 29,
   "metadata": {},
   "outputs": [
    {
     "name": "stderr",
     "output_type": "stream",
     "text": [
      "C:\\Program Files (x86)\\Microsoft Visual Studio\\Shared\\Anaconda3_64\\lib\\site-packages\\pandas\\core\\frame.py:3781: SettingWithCopyWarning: \n",
      "A value is trying to be set on a copy of a slice from a DataFrame\n",
      "\n",
      "See the caveats in the documentation: http://pandas.pydata.org/pandas-docs/stable/indexing.html#indexing-view-versus-copy\n",
      "  return super(DataFrame, self).rename(**kwargs)\n"
     ]
    }
   ],
   "source": [
    "#Rename columns to avoid confusion\n",
    "df1.rename(index=str, columns={\"Date\": \"Date1\", \"VH\": \"VH1\", \"Team\": \"Team1\",\n",
    "                               \"Final\": \"Final1\", \"Open\": \"Open1\", \"Close\": \"Close1\",\n",
    "                              \"ML\": \"ML1\", \"year\": \"Year1\"}, inplace = True)\n",
    "df2.rename(index=str, columns={\"Date\": \"Date2\", \"VH\": \"VH2\", \"Team\": \"Team2\",\n",
    "                               \"Final\": \"Final2\", \"Open\": \"Open2\", \"Close\": \"Close2\",\n",
    "                              \"ML\": \"ML2\", \"year\": \"Year2\"}, inplace = True)"
   ]
  },
  {
   "cell_type": "code",
   "execution_count": 30,
   "metadata": {},
   "outputs": [],
   "source": [
    "#Concat the resulting dfs so that each game is on its own row\n",
    "df1.reset_index(drop=True, inplace=True)\n",
    "df2.reset_index(drop=True, inplace=True)\n",
    "results = pd.concat([df1, df2], axis=1, sort=False)"
   ]
  },
  {
   "cell_type": "code",
   "execution_count": 31,
   "metadata": {},
   "outputs": [],
   "source": [
    "#Drop some values\n",
    "results = results.drop(results[[\"Date2\",\"Year1\"]],axis=1)"
   ]
  },
  {
   "cell_type": "code",
   "execution_count": 32,
   "metadata": {},
   "outputs": [],
   "source": [
    "#Rename some values\n",
    "results = results.rename(index=str, columns={\"Date1\":\"Date\", \"Year2\":\"Year\",\"VH1\":\"Team1Site\",\"VH2\":\"Team2Site\"})"
   ]
  },
  {
   "cell_type": "code",
   "execution_count": 33,
   "metadata": {},
   "outputs": [],
   "source": [
    "#Some names need renaming again\n",
    "results = results.replace({'Arizona':'ArizonaU',\n",
    "                            'Buffalo':'BuffaloU',\n",
    "                            'Cincinnati':'CincinnatiU',\n",
    "                            'Houston':'HoustonU',\n",
    "                            'MidTennSt':'MiddleTennSt',\n",
    "                            'MidTennesseeState':'MiddleTennSt',\n",
    "                            'Minnesota':'MinnesotaU',\n",
    "                            'MississippiState': 'MississippiSt',\n",
    "                            'Pittsburgh':'PittsburghU',\n",
    "                            'SoMississippi':'SouthernMiss',\n",
    "                            'Tennessee':'TennesseeU',\n",
    "                            'UL-Monroe':'ULMonroe',\n",
    "                            'Washington':'WashingtonU'\n",
    "                          })"
   ]
  },
  {
   "cell_type": "code",
   "execution_count": 34,
   "metadata": {},
   "outputs": [],
   "source": [
    "#Checking to make sure there are no more values that do not match\n",
    "results_team1s = set(results.Team1.unique())\n",
    "results_team2s = set(results.Team2.unique())\n",
    "ratings_teams = set(ratings.School.unique())\n",
    "#results_team1s\n",
    "#results_team2s\n",
    "#ratings_teams"
   ]
  },
  {
   "cell_type": "code",
   "execution_count": 35,
   "metadata": {},
   "outputs": [
    {
     "data": {
      "text/plain": [
       "['Northwestern',\n",
       " 'OhioState',\n",
       " 'Navy',\n",
       " 'IowaState',\n",
       " 'Memphis',\n",
       " 'Hawaii',\n",
       " 'ColoradoState',\n",
       " 'Virginia',\n",
       " 'WakeForest',\n",
       " 'TennesseeU',\n",
       " 'Wisconsin',\n",
       " 'Baylor',\n",
       " 'CentralMichigan',\n",
       " 'EastCarolina',\n",
       " 'OldDominion',\n",
       " 'BallState',\n",
       " 'NCState',\n",
       " 'Illinois',\n",
       " 'SanJoseState',\n",
       " 'WesternKentucky',\n",
       " 'BostonCollege',\n",
       " 'FloridaIntl',\n",
       " 'MiamiFlorida',\n",
       " 'Vanderbilt',\n",
       " 'VirginiaTech',\n",
       " 'Syracuse',\n",
       " 'Temple',\n",
       " 'WestVirginia',\n",
       " 'HoustonU',\n",
       " 'FresnoState',\n",
       " 'WashingtonU',\n",
       " 'CentralFlorida',\n",
       " 'PittsburghU',\n",
       " 'Massachusetts',\n",
       " 'LouisianaTech',\n",
       " 'MichiganState',\n",
       " 'TexasState',\n",
       " 'FloridaState',\n",
       " 'Connecticut',\n",
       " 'Mississippi',\n",
       " 'Marshall',\n",
       " 'CoastalCarolina',\n",
       " 'KentState',\n",
       " 'Duke',\n",
       " 'Rice',\n",
       " 'GeorgiaTech',\n",
       " 'Akron',\n",
       " 'Nebraska',\n",
       " 'Missouri',\n",
       " 'BowlingGreen',\n",
       " 'LSU',\n",
       " 'SouthFlorida',\n",
       " 'FloridaAtlantic',\n",
       " 'Florida',\n",
       " 'NorthCarolina',\n",
       " 'UCLA',\n",
       " 'BoiseState',\n",
       " 'WashingtonState',\n",
       " 'MiddleTennSt',\n",
       " 'ULMonroe',\n",
       " 'NorthTexas',\n",
       " 'SanDiegoState',\n",
       " 'Arkansas',\n",
       " 'Kansas',\n",
       " 'BuffaloU',\n",
       " 'NewMexicoState',\n",
       " 'NotreDame',\n",
       " 'Army',\n",
       " 'OklahomaState',\n",
       " 'Tulsa',\n",
       " 'SouthernMiss',\n",
       " 'TexasA&M',\n",
       " 'Toledo',\n",
       " 'ULLafayette',\n",
       " 'Purdue',\n",
       " 'Wyoming',\n",
       " 'NoIllinois',\n",
       " 'Ohio',\n",
       " 'Oklahoma',\n",
       " 'Alabama',\n",
       " 'Utah',\n",
       " 'ArkansasState',\n",
       " 'BYU',\n",
       " 'SouthAlabama',\n",
       " 'Troy',\n",
       " 'Kentucky',\n",
       " 'Maryland',\n",
       " 'TCU',\n",
       " 'Oregon',\n",
       " 'MinnesotaU',\n",
       " 'Georgia',\n",
       " 'PennState',\n",
       " 'AppalachianSt',\n",
       " 'UNLV',\n",
       " 'Tulane',\n",
       " 'ArizonaU',\n",
       " 'GeorgiaSouthern',\n",
       " 'Charlotte',\n",
       " 'SouthCarolina',\n",
       " 'TexSanAntonio',\n",
       " 'Idaho',\n",
       " 'Louisville',\n",
       " 'Colorado',\n",
       " 'MiamiOhio',\n",
       " 'EasternMichigan',\n",
       " 'Indiana',\n",
       " 'Nevada',\n",
       " 'Clemson',\n",
       " 'Iowa',\n",
       " 'KansasState',\n",
       " 'NewMexico',\n",
       " 'ArizonaState',\n",
       " 'UtahState',\n",
       " 'USC',\n",
       " 'UAB',\n",
       " 'Michigan',\n",
       " 'AirForce',\n",
       " 'CincinnatiU',\n",
       " 'GeorgiaState',\n",
       " 'Texas',\n",
       " 'UTEP',\n",
       " 'SMU',\n",
       " 'Auburn',\n",
       " 'Stanford',\n",
       " 'WesternMichigan',\n",
       " 'OregonState',\n",
       " 'California',\n",
       " 'Rutgers',\n",
       " 'MississippiSt',\n",
       " 'TexasTech']"
      ]
     },
     "execution_count": 35,
     "metadata": {},
     "output_type": "execute_result"
    }
   ],
   "source": [
    "#Checking to make sure there are no more values that do not match\n",
    "Teams_in_both = list(results_team1s.intersection(ratings_teams))\n",
    "Teams_in_both"
   ]
  },
  {
   "cell_type": "code",
   "execution_count": 36,
   "metadata": {},
   "outputs": [],
   "source": [
    "#Checking to make sure there are no more values that do not match\n",
    "unique_results_team1s = list(set(results_team1s)-set(Teams_in_both))\n",
    "unique_results_team2s = list(set(results_team2s)-set(Teams_in_both))\n",
    "unique_ratings_teams = list(set(ratings_teams)-set(Teams_in_both))"
   ]
  },
  {
   "cell_type": "code",
   "execution_count": 37,
   "metadata": {},
   "outputs": [
    {
     "data": {
      "text/plain": [
       "[]"
      ]
     },
     "execution_count": 37,
     "metadata": {},
     "output_type": "execute_result"
    }
   ],
   "source": [
    "#Array should be empty\n",
    "unique_ratings_teams.sort()\n",
    "unique_ratings_teams"
   ]
  },
  {
   "cell_type": "code",
   "execution_count": 38,
   "metadata": {},
   "outputs": [],
   "source": [
    "unique_results_team1s.sort()"
   ]
  },
  {
   "cell_type": "code",
   "execution_count": 39,
   "metadata": {},
   "outputs": [],
   "source": [
    "unique_results_team2s.sort()"
   ]
  },
  {
   "cell_type": "code",
   "execution_count": 40,
   "metadata": {},
   "outputs": [],
   "source": [
    "#Save to CSV files\n",
    "results.to_csv(\"Spread_and_results_files/processed_results.csv\")\n",
    "ratings.to_csv(\"School_stats_files/processed_ratings.csv\")"
   ]
  }
 ],
 "metadata": {
  "kernelspec": {
   "display_name": "Python 3",
   "language": "python",
   "name": "python3"
  },
  "language_info": {
   "codemirror_mode": {
    "name": "ipython",
    "version": 3
   },
   "file_extension": ".py",
   "mimetype": "text/x-python",
   "name": "python",
   "nbconvert_exporter": "python",
   "pygments_lexer": "ipython3",
   "version": "3.6.6"
  }
 },
 "nbformat": 4,
 "nbformat_minor": 2
}
