{
 "cells": [
  {
   "cell_type": "code",
   "execution_count": 7,
   "metadata": {},
   "outputs": [],
   "source": [
    "import urllib.request\n",
    "from urllib.request import urlopen\n",
    "from bs4 import BeautifulSoup\n",
    "import pandas as pd\n",
    "import os"
   ]
  },
  {
   "cell_type": "code",
   "execution_count": 8,
   "metadata": {},
   "outputs": [
    {
     "name": "stdout",
     "output_type": "stream",
     "text": [
      "http://www.sportsbookreviewsonline.com/scoresoddsarchives/ncaafootball/ncaa%20football%202010-11.xlsx CSV created\n",
      "http://www.sportsbookreviewsonline.com/scoresoddsarchives/ncaafootball/ncaa%20football%202011-12.xlsx CSV created\n",
      "http://www.sportsbookreviewsonline.com/scoresoddsarchives/ncaafootball/ncaa%20football%202012-13.xlsx CSV created\n",
      "http://www.sportsbookreviewsonline.com/scoresoddsarchives/ncaafootball/ncaa%20football%202013-14.xlsx CSV created\n",
      "http://www.sportsbookreviewsonline.com/scoresoddsarchives/ncaafootball/ncaa%20football%202014-15.xlsx CSV created\n",
      "http://www.sportsbookreviewsonline.com/scoresoddsarchives/ncaafootball/ncaa%20football%202015-16.xlsx CSV created\n",
      "http://www.sportsbookreviewsonline.com/scoresoddsarchives/ncaafootball/ncaa%20football%202016-17.xlsx CSV created\n",
      "http://www.sportsbookreviewsonline.com/scoresoddsarchives/ncaafootball/ncaa%20football%202017-18.xlsx CSV created\n",
      "https://www.sports-reference.com/cfb/years/2010-ratings.html CSV created\n",
      "https://www.sports-reference.com/cfb/years/2011-ratings.html CSV created\n",
      "https://www.sports-reference.com/cfb/years/2012-ratings.html CSV created\n",
      "https://www.sports-reference.com/cfb/years/2013-ratings.html CSV created\n",
      "https://www.sports-reference.com/cfb/years/2014-ratings.html CSV created\n",
      "https://www.sports-reference.com/cfb/years/2015-ratings.html CSV created\n",
      "https://www.sports-reference.com/cfb/years/2016-ratings.html CSV created\n",
      "https://www.sports-reference.com/cfb/years/2017-ratings.html CSV created\n"
     ]
    }
   ],
   "source": [
    "#Loop through multiple years to grab spreadsheets from the sportsbookreviewonline website which contains spreads, totals, and scores\n",
    "for i,j in zip(range(10,18),range(11,19)):\n",
    "    url = \"http://www.sportsbookreviewsonline.com/scoresoddsarchives/ncaafootball/ncaa%20football%2020\"+str(i)+\"-\"+str(j)+\".xlsx\"\n",
    "    data = urllib.request.urlretrieve(url, \"spreads20\"+str(i)+\"_\"+str(j)+\".xlsx\")\n",
    "    df = pd.read_excel(\"spreads20\"+str(i)+\"_\"+str(j)+\".xlsx\")\n",
    "    df[\"year\"] = \"20\"+str(i)\n",
    "    df.to_csv(r\"C:\\Users\\billf\\Desktop\\Data_Science\\FirstOfficialMLProject\\Spread_and_results_scraped_files\\spreads_20\"+str(i)+\".csv\")\n",
    "    os.remove(\"spreads20\"+str(i)+\"_\"+str(j)+\".xlsx\")\n",
    "    print(url,\"CSV created\")\n",
    "\n",
    "#Loop through sports-reference to pull various team ratings\n",
    "for i in range(10,18):\n",
    "    url = \"https://www.sports-reference.com/cfb/years/20\"+str(i)+\"-ratings.html\"\n",
    "    html = urlopen(url)\n",
    "    soup = BeautifulSoup(html)\n",
    "    data_rows = soup.findAll('tr')[2:]\n",
    "    column_headers = [th.getText() for th in \n",
    "                  soup.findAll('tr', limit=2)[1].findAll('th')]\n",
    "    team_data = [[td.getText() for td in data_rows[i].findAll('td')]\n",
    "            for i in range(len(data_rows))]\n",
    "    column_headers.pop(0)\n",
    "    #rename columns\n",
    "    new_columns = [\"ScoringOff\",\"ScoringDef\",\"PassingOff\",\"PassingDef\",\"RushingOff\",\"RushingDef\",\"TotalOff\",\"TotalDef\"]\n",
    "    for n,m in zip(range(8,16),range(len(new_columns))):\n",
    "        column_headers[n]=new_columns[m]\n",
    "    df = pd.DataFrame(team_data, columns=column_headers)\n",
    "    df = df[df['School'].notnull()]\n",
    "    df[\"season_year\"] = \"20\"+str(i)\n",
    "    df.to_csv(r\"C:\\Users\\billf\\Desktop\\Data_Science\\FirstOfficialMLProject\\School_stats_scraped_files\\School_20\"+str(i)+\"_stats.csv\")\n",
    "    print(url,\"CSV created\")"
   ]
  }
 ],
 "metadata": {
  "kernelspec": {
   "display_name": "Python 3",
   "language": "python",
   "name": "python3"
  },
  "language_info": {
   "codemirror_mode": {
    "name": "ipython",
    "version": 3
   },
   "file_extension": ".py",
   "mimetype": "text/x-python",
   "name": "python",
   "nbconvert_exporter": "python",
   "pygments_lexer": "ipython3",
   "version": "3.6.6"
  }
 },
 "nbformat": 4,
 "nbformat_minor": 2
}
